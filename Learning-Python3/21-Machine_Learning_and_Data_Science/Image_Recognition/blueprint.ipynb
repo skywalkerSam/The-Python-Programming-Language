{
 "cells": [
  {
   "cell_type": "markdown",
   "metadata": {},
   "source": [
    "# Image Recognition using ImageAI"
   ]
  },
  {
   "cell_type": "code",
   "execution_count": 1,
   "metadata": {},
   "outputs": [
    {
     "ename": "ModuleNotFoundError",
     "evalue": "No module named 'imageai'",
     "output_type": "error",
     "traceback": [
      "\u001b[1;31m---------------------------------------------------------------------------\u001b[0m",
      "\u001b[1;31mModuleNotFoundError\u001b[0m                       Traceback (most recent call last)",
      "\u001b[1;32mc:\\Users\\samsk\\Learning\\Programming\\The-Python-Programming-Language\\Learning-Python3\\21-Machine_Learning_and_Data_Science\\Image_Recognition\\blueprint.ipynb Cell 2'\u001b[0m in \u001b[0;36m<cell line: 1>\u001b[1;34m()\u001b[0m\n\u001b[1;32m----> <a href='vscode-notebook-cell:/c%3A/Users/samsk/Learning/Programming/The-Python-Programming-Language/Learning-Python3/21-Machine_Learning_and_Data_Science/Image_Recognition/blueprint.ipynb#ch0000001?line=0'>1</a>\u001b[0m \u001b[39mfrom\u001b[39;00m \u001b[39mimageai\u001b[39;00m\u001b[39m.\u001b[39;00m\u001b[39mClassification\u001b[39;00m \u001b[39mimport\u001b[39;00m ImageClassification\n\u001b[0;32m      <a href='vscode-notebook-cell:/c%3A/Users/samsk/Learning/Programming/The-Python-Programming-Language/Learning-Python3/21-Machine_Learning_and_Data_Science/Image_Recognition/blueprint.ipynb#ch0000001?line=1'>2</a>\u001b[0m \u001b[39mimport\u001b[39;00m \u001b[39mos\u001b[39;00m\n\u001b[0;32m      <a href='vscode-notebook-cell:/c%3A/Users/samsk/Learning/Programming/The-Python-Programming-Language/Learning-Python3/21-Machine_Learning_and_Data_Science/Image_Recognition/blueprint.ipynb#ch0000001?line=3'>4</a>\u001b[0m execution_path \u001b[39m=\u001b[39m os\u001b[39m.\u001b[39mgetcwd()\n",
      "\u001b[1;31mModuleNotFoundError\u001b[0m: No module named 'imageai'"
     ]
    }
   ],
   "source": [
    "from imageai.Classification import ImageClassification\n",
    "import os\n",
    "\n",
    "execution_path = os.getcwd()\n",
    "\n",
    "prediction = ImageClassification()\n",
    "prediction.setModelTypeAsResNet50()\n",
    "prediction.setModelPath(os.path.join(execution_path, \"resnet50_imagenet_tf.2.0.h5\"))\n",
    "prediction.loadModel()\n",
    "\n",
    "predictions, probabilities = prediction.classifyImage(os.path.join(execution_path, \"1.jpg\"), result_count=5 )\n",
    "for eachPrediction, eachProbability in zip(predictions, probabilities):\n",
    "    print(eachPrediction , \" : \" , eachProbability)"
   ]
  },
  {
   "cell_type": "code",
   "execution_count": null,
   "metadata": {},
   "outputs": [],
   "source": []
  }
 ],
 "metadata": {
  "kernelspec": {
   "display_name": "Python 3.10.5 64-bit",
   "language": "python",
   "name": "python3"
  },
  "language_info": {
   "codemirror_mode": {
    "name": "ipython",
    "version": 3
   },
   "file_extension": ".py",
   "mimetype": "text/x-python",
   "name": "python",
   "nbconvert_exporter": "python",
   "pygments_lexer": "ipython3",
   "version": "3.10.5"
  },
  "orig_nbformat": 4,
  "vscode": {
   "interpreter": {
    "hash": "1a554f3b84a2f10758b2463cbb21cd7fd6a704e8c05d33fc8efb651b7de1a4d8"
   }
  }
 },
 "nbformat": 4,
 "nbformat_minor": 2
}
